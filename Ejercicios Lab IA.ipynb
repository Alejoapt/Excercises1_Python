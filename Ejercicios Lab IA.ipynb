{
 "cells": [
  {
   "cell_type": "code",
   "execution_count": 1,
   "metadata": {},
   "outputs": [
    {
     "name": "stdout",
     "output_type": "stream",
     "text": [
      "hello world\n"
     ]
    }
   ],
   "source": [
    "# Ejercicio 1 \n",
    "print (\"hello world\")"
   ]
  },
  {
   "cell_type": "code",
   "execution_count": 15,
   "metadata": {},
   "outputs": [
    {
     "name": "stdout",
     "output_type": "stream",
     "text": [
      "hello world\n"
     ]
    }
   ],
   "source": [
    "# Ejercicio 2\n",
    "variable = (\"hello world\")\n",
    "print (hello)"
   ]
  },
  {
   "cell_type": "code",
   "execution_count": 5,
   "metadata": {},
   "outputs": [
    {
     "data": {
      "text/plain": [
       "str"
      ]
     },
     "execution_count": 5,
     "metadata": {},
     "output_type": "execute_result"
    }
   ],
   "source": [
    "#Ejercicio 3\n",
    "type(variable)"
   ]
  },
  {
   "cell_type": "code",
   "execution_count": 11,
   "metadata": {},
   "outputs": [],
   "source": [
    "variable = (\"hello world\")"
   ]
  },
  {
   "cell_type": "code",
   "execution_count": 12,
   "metadata": {},
   "outputs": [
    {
     "name": "stdout",
     "output_type": "stream",
     "text": [
      "hello\n"
     ]
    }
   ],
   "source": [
    "#Ejercicio 4\n",
    "variable = variable[0:5]\n",
    "print (variable)"
   ]
  },
  {
   "cell_type": "code",
   "execution_count": 21,
   "metadata": {},
   "outputs": [],
   "source": [
    "lista= range(0,21)"
   ]
  },
  {
   "cell_type": "code",
   "execution_count": 19,
   "metadata": {},
   "outputs": [],
   "source": [
    "def oddNumbers(some_list):\n",
    "    for i in some_list:\n",
    "        if((i%2)!=0):\n",
    "            print (i)\n",
    "        "
   ]
  },
  {
   "cell_type": "code",
   "execution_count": 22,
   "metadata": {
    "scrolled": true
   },
   "outputs": [
    {
     "name": "stdout",
     "output_type": "stream",
     "text": [
      "1\n",
      "3\n",
      "5\n",
      "7\n",
      "9\n",
      "11\n",
      "13\n",
      "15\n",
      "17\n",
      "19\n"
     ]
    }
   ],
   "source": [
    "#Ejercicio 5\n",
    "oddNumbers(lista)"
   ]
  },
  {
   "cell_type": "code",
   "execution_count": 1,
   "metadata": {},
   "outputs": [],
   "source": [
    "lista2 = [2,4,6,7,13]"
   ]
  },
  {
   "cell_type": "code",
   "execution_count": 11,
   "metadata": {},
   "outputs": [],
   "source": [
    "def exponential(some_list, exp):\n",
    "    for i in some_list:\n",
    "        e = i**exp\n",
    "        print(e)"
   ]
  },
  {
   "cell_type": "code",
   "execution_count": 12,
   "metadata": {},
   "outputs": [
    {
     "name": "stdout",
     "output_type": "stream",
     "text": [
      "4\n",
      "16\n",
      "36\n",
      "49\n",
      "169\n"
     ]
    }
   ],
   "source": [
    "#Ejercicio 6\n",
    "exponential(lista2,2)"
   ]
  },
  {
   "cell_type": "code",
   "execution_count": 15,
   "metadata": {},
   "outputs": [
    {
     "name": "stdout",
     "output_type": "stream",
     "text": [
      "{'variableUno': [1, 2, 3, 4], 'variableDos': ['1', 'a', '?']}\n"
     ]
    }
   ],
   "source": [
    "#Ejercicio 7\n",
    "diccionario = {'variableUno':[1,2,3,4], 'variableDos':[\"1\",\"a\",\"?\"]}\n",
    "print(diccionario)"
   ]
  },
  {
   "cell_type": "code",
   "execution_count": 20,
   "metadata": {},
   "outputs": [
    {
     "name": "stdout",
     "output_type": "stream",
     "text": [
      "Zpam\n"
     ]
    }
   ],
   "source": [
    "#Ejercicio 8 \n",
    "word = \"Spam\"\n",
    "word = \"Z\" + word[1:]\n",
    "print(word)"
   ]
  },
  {
   "cell_type": "code",
   "execution_count": 22,
   "metadata": {},
   "outputs": [
    {
     "name": "stdout",
     "output_type": "stream",
     "text": [
      "Escribe el ancho del rectangulo 3\n",
      "Escribe el alto del rectangulo 4\n",
      "El perímetro es: 14.0\n"
     ]
    }
   ],
   "source": [
    "#Ejercicio 9\n",
    "x = float(input(\"Escribe el ancho del rectangulo \"))\n",
    "y = float(input(\"Escribe el alto del rectangulo \"))\n",
    "print(\"El perímetro es: %s\"% ((2*x) + (2*y)))"
   ]
  },
  {
   "cell_type": "code",
   "execution_count": 23,
   "metadata": {},
   "outputs": [],
   "source": [
    "Lista3 =  list(range(1,101))"
   ]
  },
  {
   "cell_type": "code",
   "execution_count": 25,
   "metadata": {},
   "outputs": [],
   "source": [
    "def metodo8(a):\n",
    "    for i in a:\n",
    "        if i % 2 == 0:\n",
    "            print(\"whiz %s\" %i)\n",
    "        elif  i % 3 == 0:\n",
    "            print(\"bang %s\" %i)\n",
    "        else:\n",
    "            print(\"\")"
   ]
  },
  {
   "cell_type": "code",
   "execution_count": 26,
   "metadata": {},
   "outputs": [
    {
     "name": "stdout",
     "output_type": "stream",
     "text": [
      "\n",
      "whiz 2\n",
      "bang 3\n",
      "whiz 4\n",
      "\n",
      "whiz 6\n",
      "\n",
      "whiz 8\n",
      "bang 9\n",
      "whiz 10\n",
      "\n",
      "whiz 12\n",
      "\n",
      "whiz 14\n",
      "bang 15\n",
      "whiz 16\n",
      "\n",
      "whiz 18\n",
      "\n",
      "whiz 20\n",
      "bang 21\n",
      "whiz 22\n",
      "\n",
      "whiz 24\n",
      "\n",
      "whiz 26\n",
      "bang 27\n",
      "whiz 28\n",
      "\n",
      "whiz 30\n",
      "\n",
      "whiz 32\n",
      "bang 33\n",
      "whiz 34\n",
      "\n",
      "whiz 36\n",
      "\n",
      "whiz 38\n",
      "bang 39\n",
      "whiz 40\n",
      "\n",
      "whiz 42\n",
      "\n",
      "whiz 44\n",
      "bang 45\n",
      "whiz 46\n",
      "\n",
      "whiz 48\n",
      "\n",
      "whiz 50\n",
      "bang 51\n",
      "whiz 52\n",
      "\n",
      "whiz 54\n",
      "\n",
      "whiz 56\n",
      "bang 57\n",
      "whiz 58\n",
      "\n",
      "whiz 60\n",
      "\n",
      "whiz 62\n",
      "bang 63\n",
      "whiz 64\n",
      "\n",
      "whiz 66\n",
      "\n",
      "whiz 68\n",
      "bang 69\n",
      "whiz 70\n",
      "\n",
      "whiz 72\n",
      "\n",
      "whiz 74\n",
      "bang 75\n",
      "whiz 76\n",
      "\n",
      "whiz 78\n",
      "\n",
      "whiz 80\n",
      "bang 81\n",
      "whiz 82\n",
      "\n",
      "whiz 84\n",
      "\n",
      "whiz 86\n",
      "bang 87\n",
      "whiz 88\n",
      "\n",
      "whiz 90\n",
      "\n",
      "whiz 92\n",
      "bang 93\n",
      "whiz 94\n",
      "\n",
      "whiz 96\n",
      "\n",
      "whiz 98\n",
      "bang 99\n",
      "whiz 100\n"
     ]
    }
   ],
   "source": [
    "#Ejercicio 11\n",
    "metodo8(Lista3)"
   ]
  }
 ],
 "metadata": {
  "kernelspec": {
   "display_name": "Python 3",
   "language": "python",
   "name": "python3"
  },
  "language_info": {
   "codemirror_mode": {
    "name": "ipython",
    "version": 3
   },
   "file_extension": ".py",
   "mimetype": "text/x-python",
   "name": "python",
   "nbconvert_exporter": "python",
   "pygments_lexer": "ipython3",
   "version": "3.7.3"
  }
 },
 "nbformat": 4,
 "nbformat_minor": 2
}
